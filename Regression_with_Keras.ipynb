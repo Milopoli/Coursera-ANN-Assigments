{
 "cells": [
  {
   "cell_type": "code",
   "execution_count": 28,
   "id": "ab984b55-8bd6-4869-a091-6a2139438c1f",
   "metadata": {},
   "outputs": [],
   "source": [
    "import pandas as pd\n",
    "import numpy as np\n",
    "import keras\n",
    "from keras.models import Sequential\n",
    "from keras.layers import Dense\n",
    "from sklearn.model_selection import train_test_split\n",
    "from sklearn import metrics"
   ]
  },
  {
   "cell_type": "code",
   "execution_count": 3,
   "id": "b31fcaff-2b88-4116-b9f1-8c4107ee0848",
   "metadata": {},
   "outputs": [
    {
     "data": {
      "text/html": [
       "<div>\n",
       "<style scoped>\n",
       "    .dataframe tbody tr th:only-of-type {\n",
       "        vertical-align: middle;\n",
       "    }\n",
       "\n",
       "    .dataframe tbody tr th {\n",
       "        vertical-align: top;\n",
       "    }\n",
       "\n",
       "    .dataframe thead th {\n",
       "        text-align: right;\n",
       "    }\n",
       "</style>\n",
       "<table border=\"1\" class=\"dataframe\">\n",
       "  <thead>\n",
       "    <tr style=\"text-align: right;\">\n",
       "      <th></th>\n",
       "      <th>Cement</th>\n",
       "      <th>Blast Furnace Slag</th>\n",
       "      <th>Fly Ash</th>\n",
       "      <th>Water</th>\n",
       "      <th>Superplasticizer</th>\n",
       "      <th>Coarse Aggregate</th>\n",
       "      <th>Fine Aggregate</th>\n",
       "      <th>Age</th>\n",
       "      <th>Strength</th>\n",
       "    </tr>\n",
       "  </thead>\n",
       "  <tbody>\n",
       "    <tr>\n",
       "      <th>0</th>\n",
       "      <td>540.0</td>\n",
       "      <td>0.0</td>\n",
       "      <td>0.0</td>\n",
       "      <td>162.0</td>\n",
       "      <td>2.5</td>\n",
       "      <td>1040.0</td>\n",
       "      <td>676.0</td>\n",
       "      <td>28</td>\n",
       "      <td>79.99</td>\n",
       "    </tr>\n",
       "    <tr>\n",
       "      <th>1</th>\n",
       "      <td>540.0</td>\n",
       "      <td>0.0</td>\n",
       "      <td>0.0</td>\n",
       "      <td>162.0</td>\n",
       "      <td>2.5</td>\n",
       "      <td>1055.0</td>\n",
       "      <td>676.0</td>\n",
       "      <td>28</td>\n",
       "      <td>61.89</td>\n",
       "    </tr>\n",
       "    <tr>\n",
       "      <th>2</th>\n",
       "      <td>332.5</td>\n",
       "      <td>142.5</td>\n",
       "      <td>0.0</td>\n",
       "      <td>228.0</td>\n",
       "      <td>0.0</td>\n",
       "      <td>932.0</td>\n",
       "      <td>594.0</td>\n",
       "      <td>270</td>\n",
       "      <td>40.27</td>\n",
       "    </tr>\n",
       "    <tr>\n",
       "      <th>3</th>\n",
       "      <td>332.5</td>\n",
       "      <td>142.5</td>\n",
       "      <td>0.0</td>\n",
       "      <td>228.0</td>\n",
       "      <td>0.0</td>\n",
       "      <td>932.0</td>\n",
       "      <td>594.0</td>\n",
       "      <td>365</td>\n",
       "      <td>41.05</td>\n",
       "    </tr>\n",
       "    <tr>\n",
       "      <th>4</th>\n",
       "      <td>198.6</td>\n",
       "      <td>132.4</td>\n",
       "      <td>0.0</td>\n",
       "      <td>192.0</td>\n",
       "      <td>0.0</td>\n",
       "      <td>978.4</td>\n",
       "      <td>825.5</td>\n",
       "      <td>360</td>\n",
       "      <td>44.30</td>\n",
       "    </tr>\n",
       "  </tbody>\n",
       "</table>\n",
       "</div>"
      ],
      "text/plain": [
       "   Cement  Blast Furnace Slag  Fly Ash  Water  Superplasticizer  \\\n",
       "0   540.0                 0.0      0.0  162.0               2.5   \n",
       "1   540.0                 0.0      0.0  162.0               2.5   \n",
       "2   332.5               142.5      0.0  228.0               0.0   \n",
       "3   332.5               142.5      0.0  228.0               0.0   \n",
       "4   198.6               132.4      0.0  192.0               0.0   \n",
       "\n",
       "   Coarse Aggregate  Fine Aggregate  Age  Strength  \n",
       "0            1040.0           676.0   28     79.99  \n",
       "1            1055.0           676.0   28     61.89  \n",
       "2             932.0           594.0  270     40.27  \n",
       "3             932.0           594.0  365     41.05  \n",
       "4             978.4           825.5  360     44.30  "
      ]
     },
     "execution_count": 3,
     "metadata": {},
     "output_type": "execute_result"
    }
   ],
   "source": [
    "# reading the file\n",
    "df = pd.read_csv('https://cocl.us/concrete_data')\n",
    "df.head()"
   ]
  },
  {
   "cell_type": "code",
   "execution_count": 13,
   "id": "7b82f3b1-7466-4a0e-a078-ed2af992f57f",
   "metadata": {},
   "outputs": [],
   "source": [
    "# creating new df's for analysis\n",
    "concrete_data_columns = df.columns # saving lumns for splitting data\n",
    "X = df[concrete_data_columns[concrete_data_columns != 'Strength']] # all columns except Strength\n",
    "y = df['Strength'] # strength column"
   ]
  },
  {
   "cell_type": "code",
   "execution_count": 14,
   "id": "c7afaca1-bb57-4f64-abeb-06d19496e1ce",
   "metadata": {},
   "outputs": [
    {
     "data": {
      "text/html": [
       "<div>\n",
       "<style scoped>\n",
       "    .dataframe tbody tr th:only-of-type {\n",
       "        vertical-align: middle;\n",
       "    }\n",
       "\n",
       "    .dataframe tbody tr th {\n",
       "        vertical-align: top;\n",
       "    }\n",
       "\n",
       "    .dataframe thead th {\n",
       "        text-align: right;\n",
       "    }\n",
       "</style>\n",
       "<table border=\"1\" class=\"dataframe\">\n",
       "  <thead>\n",
       "    <tr style=\"text-align: right;\">\n",
       "      <th></th>\n",
       "      <th>Cement</th>\n",
       "      <th>Blast Furnace Slag</th>\n",
       "      <th>Fly Ash</th>\n",
       "      <th>Water</th>\n",
       "      <th>Superplasticizer</th>\n",
       "      <th>Coarse Aggregate</th>\n",
       "      <th>Fine Aggregate</th>\n",
       "      <th>Age</th>\n",
       "    </tr>\n",
       "  </thead>\n",
       "  <tbody>\n",
       "    <tr>\n",
       "      <th>0</th>\n",
       "      <td>540.0</td>\n",
       "      <td>0.0</td>\n",
       "      <td>0.0</td>\n",
       "      <td>162.0</td>\n",
       "      <td>2.5</td>\n",
       "      <td>1040.0</td>\n",
       "      <td>676.0</td>\n",
       "      <td>28</td>\n",
       "    </tr>\n",
       "    <tr>\n",
       "      <th>1</th>\n",
       "      <td>540.0</td>\n",
       "      <td>0.0</td>\n",
       "      <td>0.0</td>\n",
       "      <td>162.0</td>\n",
       "      <td>2.5</td>\n",
       "      <td>1055.0</td>\n",
       "      <td>676.0</td>\n",
       "      <td>28</td>\n",
       "    </tr>\n",
       "    <tr>\n",
       "      <th>2</th>\n",
       "      <td>332.5</td>\n",
       "      <td>142.5</td>\n",
       "      <td>0.0</td>\n",
       "      <td>228.0</td>\n",
       "      <td>0.0</td>\n",
       "      <td>932.0</td>\n",
       "      <td>594.0</td>\n",
       "      <td>270</td>\n",
       "    </tr>\n",
       "    <tr>\n",
       "      <th>3</th>\n",
       "      <td>332.5</td>\n",
       "      <td>142.5</td>\n",
       "      <td>0.0</td>\n",
       "      <td>228.0</td>\n",
       "      <td>0.0</td>\n",
       "      <td>932.0</td>\n",
       "      <td>594.0</td>\n",
       "      <td>365</td>\n",
       "    </tr>\n",
       "    <tr>\n",
       "      <th>4</th>\n",
       "      <td>198.6</td>\n",
       "      <td>132.4</td>\n",
       "      <td>0.0</td>\n",
       "      <td>192.0</td>\n",
       "      <td>0.0</td>\n",
       "      <td>978.4</td>\n",
       "      <td>825.5</td>\n",
       "      <td>360</td>\n",
       "    </tr>\n",
       "  </tbody>\n",
       "</table>\n",
       "</div>"
      ],
      "text/plain": [
       "   Cement  Blast Furnace Slag  Fly Ash  Water  Superplasticizer  \\\n",
       "0   540.0                 0.0      0.0  162.0               2.5   \n",
       "1   540.0                 0.0      0.0  162.0               2.5   \n",
       "2   332.5               142.5      0.0  228.0               0.0   \n",
       "3   332.5               142.5      0.0  228.0               0.0   \n",
       "4   198.6               132.4      0.0  192.0               0.0   \n",
       "\n",
       "   Coarse Aggregate  Fine Aggregate  Age  \n",
       "0            1040.0           676.0   28  \n",
       "1            1055.0           676.0   28  \n",
       "2             932.0           594.0  270  \n",
       "3             932.0           594.0  365  \n",
       "4             978.4           825.5  360  "
      ]
     },
     "execution_count": 14,
     "metadata": {},
     "output_type": "execute_result"
    }
   ],
   "source": [
    "X.head() #checking predictors"
   ]
  },
  {
   "cell_type": "code",
   "execution_count": 15,
   "id": "29caaa17-cb7d-49a4-b4eb-5f57a5438890",
   "metadata": {},
   "outputs": [
    {
     "data": {
      "text/plain": [
       "0    79.99\n",
       "1    61.89\n",
       "2    40.27\n",
       "3    41.05\n",
       "4    44.30\n",
       "Name: Strength, dtype: float64"
      ]
     },
     "execution_count": 15,
     "metadata": {},
     "output_type": "execute_result"
    }
   ],
   "source": [
    "y.head() # checking the target variables"
   ]
  },
  {
   "cell_type": "code",
   "execution_count": 11,
   "id": "39b5d330-001d-480b-a132-bc53226de413",
   "metadata": {},
   "outputs": [],
   "source": [
    "n_cols = predictors.shape[1] # number of predictors"
   ]
  },
  {
   "cell_type": "markdown",
   "id": "33fe3c47-88b2-4d83-a8ab-4bda93bd42ee",
   "metadata": {},
   "source": [
    "## Assignment A"
   ]
  },
  {
   "cell_type": "code",
   "execution_count": 22,
   "id": "c6f35fb4-4790-47c1-9056-f7a2669afb3b",
   "metadata": {},
   "outputs": [],
   "source": [
    "# define regression model\n",
    "def regression_model():\n",
    "    # create model\n",
    "    model = Sequential()\n",
    "    model.add(Dense(10, activation='relu', input_shape=(n_cols,)))\n",
    "    model.add(Dense(1))\n",
    "    \n",
    "    # compile model\n",
    "    model.compile(optimizer='adam', loss='mean_squared_error')\n",
    "    return model"
   ]
  },
  {
   "cell_type": "code",
   "execution_count": 17,
   "id": "5cdf05d9-43f9-4367-9bed-c03e1270ee26",
   "metadata": {},
   "outputs": [],
   "source": [
    "X_trainset, X_testset, y_trainset, y_testset = train_test_split(X, y, test_size=0.3, random_state=3)"
   ]
  },
  {
   "cell_type": "code",
   "execution_count": 39,
   "id": "3901d7cf-15a0-40c8-bb7b-8c269fa0ca47",
   "metadata": {},
   "outputs": [],
   "source": [
    "# build model\n",
    "model = regression_model()"
   ]
  },
  {
   "cell_type": "code",
   "execution_count": 46,
   "id": "50b3242c-c32c-461a-9ab9-c70dca285295",
   "metadata": {},
   "outputs": [],
   "source": [
    "mse_list = [] # empty list for MSE\n",
    "\n",
    "for i in range(50): # running 50 iterations (not on the same model, since that would just be like running 2500 epochs)\n",
    "    X_trainset, X_testset, y_trainset, y_testset = train_test_split(X, y, test_size=0.3, random_state=3) # splitting training data\n",
    "    model = regression_model() # rebuilding model for every iteration within loop, otherwise the model would continously improve (just like adding more epochs)\n",
    "    model.fit(X_trainset, y_trainset, validation_data=(X_testset, y_testset), epochs=50, verbose=0) # training model\n",
    "    prediction = model.predict(X_testset) # making the prediction\n",
    "    mse_list.append(metrics.mean_squared_error(y_testset, prediction)) # appending the MSE to the list\n"
   ]
  },
  {
   "cell_type": "code",
   "execution_count": 47,
   "id": "2df7bec0-949c-4027-a508-c05e5b3954a2",
   "metadata": {},
   "outputs": [
    {
     "name": "stdout",
     "output_type": "stream",
     "text": [
      "The mean of the 50 MSE is: 361.0309889464532, with a standard deviation of 437.5327861511041\n"
     ]
    }
   ],
   "source": [
    "print('The mean of the 50 MSE is: {}, with a standard deviation of {}'. format(np.mean(mse_list), np.std(mse_list)))"
   ]
  },
  {
   "cell_type": "markdown",
   "id": "09e6b082-0da1-4343-ac27-f4eac795b7ee",
   "metadata": {},
   "source": [
    "## Assignment B"
   ]
  },
  {
   "cell_type": "code",
   "execution_count": 48,
   "id": "058defc0-8066-4327-810f-54f8c5413cf5",
   "metadata": {},
   "outputs": [
    {
     "data": {
      "text/html": [
       "<div>\n",
       "<style scoped>\n",
       "    .dataframe tbody tr th:only-of-type {\n",
       "        vertical-align: middle;\n",
       "    }\n",
       "\n",
       "    .dataframe tbody tr th {\n",
       "        vertical-align: top;\n",
       "    }\n",
       "\n",
       "    .dataframe thead th {\n",
       "        text-align: right;\n",
       "    }\n",
       "</style>\n",
       "<table border=\"1\" class=\"dataframe\">\n",
       "  <thead>\n",
       "    <tr style=\"text-align: right;\">\n",
       "      <th></th>\n",
       "      <th>Cement</th>\n",
       "      <th>Blast Furnace Slag</th>\n",
       "      <th>Fly Ash</th>\n",
       "      <th>Water</th>\n",
       "      <th>Superplasticizer</th>\n",
       "      <th>Coarse Aggregate</th>\n",
       "      <th>Fine Aggregate</th>\n",
       "      <th>Age</th>\n",
       "    </tr>\n",
       "  </thead>\n",
       "  <tbody>\n",
       "    <tr>\n",
       "      <th>0</th>\n",
       "      <td>2.476712</td>\n",
       "      <td>-0.856472</td>\n",
       "      <td>-0.846733</td>\n",
       "      <td>-0.916319</td>\n",
       "      <td>-0.620147</td>\n",
       "      <td>0.862735</td>\n",
       "      <td>-1.217079</td>\n",
       "      <td>-0.279597</td>\n",
       "    </tr>\n",
       "    <tr>\n",
       "      <th>1</th>\n",
       "      <td>2.476712</td>\n",
       "      <td>-0.856472</td>\n",
       "      <td>-0.846733</td>\n",
       "      <td>-0.916319</td>\n",
       "      <td>-0.620147</td>\n",
       "      <td>1.055651</td>\n",
       "      <td>-1.217079</td>\n",
       "      <td>-0.279597</td>\n",
       "    </tr>\n",
       "    <tr>\n",
       "      <th>2</th>\n",
       "      <td>0.491187</td>\n",
       "      <td>0.795140</td>\n",
       "      <td>-0.846733</td>\n",
       "      <td>2.174405</td>\n",
       "      <td>-1.038638</td>\n",
       "      <td>-0.526262</td>\n",
       "      <td>-2.239829</td>\n",
       "      <td>3.551340</td>\n",
       "    </tr>\n",
       "    <tr>\n",
       "      <th>3</th>\n",
       "      <td>0.491187</td>\n",
       "      <td>0.795140</td>\n",
       "      <td>-0.846733</td>\n",
       "      <td>2.174405</td>\n",
       "      <td>-1.038638</td>\n",
       "      <td>-0.526262</td>\n",
       "      <td>-2.239829</td>\n",
       "      <td>5.055221</td>\n",
       "    </tr>\n",
       "    <tr>\n",
       "      <th>4</th>\n",
       "      <td>-0.790075</td>\n",
       "      <td>0.678079</td>\n",
       "      <td>-0.846733</td>\n",
       "      <td>0.488555</td>\n",
       "      <td>-1.038638</td>\n",
       "      <td>0.070492</td>\n",
       "      <td>0.647569</td>\n",
       "      <td>4.976069</td>\n",
       "    </tr>\n",
       "  </tbody>\n",
       "</table>\n",
       "</div>"
      ],
      "text/plain": [
       "     Cement  Blast Furnace Slag   Fly Ash     Water  Superplasticizer  \\\n",
       "0  2.476712           -0.856472 -0.846733 -0.916319         -0.620147   \n",
       "1  2.476712           -0.856472 -0.846733 -0.916319         -0.620147   \n",
       "2  0.491187            0.795140 -0.846733  2.174405         -1.038638   \n",
       "3  0.491187            0.795140 -0.846733  2.174405         -1.038638   \n",
       "4 -0.790075            0.678079 -0.846733  0.488555         -1.038638   \n",
       "\n",
       "   Coarse Aggregate  Fine Aggregate       Age  \n",
       "0          0.862735       -1.217079 -0.279597  \n",
       "1          1.055651       -1.217079 -0.279597  \n",
       "2         -0.526262       -2.239829  3.551340  \n",
       "3         -0.526262       -2.239829  5.055221  \n",
       "4          0.070492        0.647569  4.976069  "
      ]
     },
     "execution_count": 48,
     "metadata": {},
     "output_type": "execute_result"
    }
   ],
   "source": [
    "X_norm = (X - X.mean()) / X.std()\n",
    "X_norm.head()"
   ]
  },
  {
   "cell_type": "code",
   "execution_count": 50,
   "id": "c2b4dab2-a1a7-4c92-a69e-70ebeb64ee0a",
   "metadata": {},
   "outputs": [],
   "source": [
    "mse_list = [] # empty list for MSE\n",
    "\n",
    "for i in range(50): # running 50 iterations (not on the same model, since that would just be like running 2500 epochs)\n",
    "    X_trainset, X_testset, y_trainset, y_testset = train_test_split(X_norm, y, test_size=0.3, random_state=3) # splitting training data\n",
    "    model = regression_model() # rebuilding model for every iteration within loop, otherwise the model would continously improve (just like adding more epochs)\n",
    "    model.fit(X_trainset, y_trainset, validation_data=(X_testset, y_testset), epochs=50, verbose=0) # training model\n",
    "    prediction = model.predict(X_testset) # making the prediction\n",
    "    mse_list.append(metrics.mean_squared_error(y_testset, prediction)) # appending the MSE to the list"
   ]
  },
  {
   "cell_type": "code",
   "execution_count": 51,
   "id": "38c7e412-96ad-4ff3-9a1a-2e38fa8ece0b",
   "metadata": {},
   "outputs": [
    {
     "name": "stdout",
     "output_type": "stream",
     "text": [
      "The mean of the 50 MSE is: 370.5475401052167, with a standard deviation of 92.55387658681443\n"
     ]
    }
   ],
   "source": [
    "print('The mean of the 50 MSE is: {}, with a standard deviation of {}'. format(np.mean(mse_list), np.std(mse_list)))"
   ]
  },
  {
   "cell_type": "markdown",
   "id": "571cf30f-974b-4350-8cbb-a02038991126",
   "metadata": {},
   "source": [
    "## Assignment C"
   ]
  },
  {
   "cell_type": "code",
   "execution_count": 52,
   "id": "fff0c934-5579-4612-9d3a-559d70c2c119",
   "metadata": {},
   "outputs": [],
   "source": [
    "# using 100 epochs instead\n",
    "\n",
    "mse_list = [] # empty list for MSE\n",
    "\n",
    "for i in range(50): # running 50 iterations (not on the same model, since that would just be like running 5000 epochs)\n",
    "    X_trainset, X_testset, y_trainset, y_testset = train_test_split(X_norm, y, test_size=0.3, random_state=3) # splitting training data\n",
    "    model = regression_model() # rebuilding model for every iteration within loop, otherwise the model would continously improve (just like adding more epochs)\n",
    "    model.fit(X_trainset, y_trainset, validation_data=(X_testset, y_testset), epochs=100, verbose=0) # training model\n",
    "    prediction = model.predict(X_testset) # making the prediction\n",
    "    mse_list.append(metrics.mean_squared_error(y_testset, prediction)) # appending the MSE to the list"
   ]
  },
  {
   "cell_type": "code",
   "execution_count": 53,
   "id": "da900aa9-963a-45a5-8a46-faf326fb3176",
   "metadata": {},
   "outputs": [
    {
     "name": "stdout",
     "output_type": "stream",
     "text": [
      "The mean of the 50 MSE is: 171.45614171917939, with a standard deviation of 15.484960582837004\n"
     ]
    }
   ],
   "source": [
    "print('The mean of the 50 MSE is: {}, with a standard deviation of {}'. format(np.mean(mse_list), np.std(mse_list)))"
   ]
  },
  {
   "cell_type": "markdown",
   "id": "8337f29b-f138-482e-ba43-e244180bbe04",
   "metadata": {},
   "source": [
    "## Assignment D"
   ]
  },
  {
   "cell_type": "code",
   "execution_count": 54,
   "id": "8385f668-b9b5-42e4-a730-b0950ab2c805",
   "metadata": {},
   "outputs": [],
   "source": [
    "# adding 2 hidden layers with 10 nodes each\n",
    "\n",
    "# define regression model\n",
    "def new_regression_model():\n",
    "    # create model\n",
    "    model = Sequential()\n",
    "    model.add(Dense(10, activation='relu', input_shape=(n_cols,)))\n",
    "    model.add(Dense(10, activation='relu'))\n",
    "    model.add(Dense(10, activation='relu'))\n",
    "    model.add(Dense(1))\n",
    "    \n",
    "    # compile model\n",
    "    model.compile(optimizer='adam', loss='mean_squared_error')\n",
    "    return model"
   ]
  },
  {
   "cell_type": "code",
   "execution_count": 55,
   "id": "d638e528-3c3a-44cd-9cef-7bac7f88f57c",
   "metadata": {},
   "outputs": [],
   "source": [
    "mse_list = [] # empty list for MSE\n",
    "\n",
    "for i in range(50): # running 50 iterations (not on the same model, since that would just be like running 2500 epochs)\n",
    "    X_trainset, X_testset, y_trainset, y_testset = train_test_split(X_norm, y, test_size=0.3, random_state=3) # splitting training data\n",
    "    model = new_regression_model() # rebuilding model for every iteration within loop, otherwise the model would continously improve (just like adding more epochs)\n",
    "    model.fit(X_trainset, y_trainset, validation_data=(X_testset, y_testset), epochs=50, verbose=0) # training model\n",
    "    prediction = model.predict(X_testset) # making the prediction\n",
    "    mse_list.append(metrics.mean_squared_error(y_testset, prediction)) # appending the MSE to the list"
   ]
  },
  {
   "cell_type": "code",
   "execution_count": 56,
   "id": "c74d07ff-0ec9-42b6-859f-33e467d8e9f2",
   "metadata": {},
   "outputs": [
    {
     "name": "stdout",
     "output_type": "stream",
     "text": [
      "The mean of the 50 MSE is: 138.5432776185204, with a standard deviation of 13.073685288218302\n"
     ]
    }
   ],
   "source": [
    "print('The mean of the 50 MSE is: {}, with a standard deviation of {}'. format(np.mean(mse_list), np.std(mse_list)))"
   ]
  }
 ],
 "metadata": {
  "kernelspec": {
   "display_name": "Python",
   "language": "python",
   "name": "conda-env-python-py"
  },
  "language_info": {
   "codemirror_mode": {
    "name": "ipython",
    "version": 3
   },
   "file_extension": ".py",
   "mimetype": "text/x-python",
   "name": "python",
   "nbconvert_exporter": "python",
   "pygments_lexer": "ipython3",
   "version": "3.6.13"
  }
 },
 "nbformat": 4,
 "nbformat_minor": 5
}
